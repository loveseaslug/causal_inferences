{
  "nbformat": 4,
  "nbformat_minor": 0,
  "metadata": {
    "colab": {
      "provenance": [],
      "authorship_tag": "ABX9TyMyv707kROv265ZTA0QzbL2",
      "include_colab_link": true
    },
    "kernelspec": {
      "name": "python3",
      "display_name": "Python 3"
    },
    "language_info": {
      "name": "python"
    }
  },
  "cells": [
    {
      "cell_type": "markdown",
      "metadata": {
        "id": "view-in-github",
        "colab_type": "text"
      },
      "source": [
        "<a href=\"https://colab.research.google.com/github/loveseaslug/causal_inferences/blob/main/optuna_tuning_for_sparceSC.ipynb\" target=\"_parent\"><img src=\"https://colab.research.google.com/assets/colab-badge.svg\" alt=\"Open In Colab\"/></a>"
      ]
    },
    {
      "cell_type": "code",
      "source": [
        "!pip install git+https://github.com/microsoft/SparseSC.git\n",
        "!pip install optuna"
      ],
      "metadata": {
        "id": "xrKkCncGPPoj"
      },
      "execution_count": null,
      "outputs": []
    },
    {
      "cell_type": "code",
      "source": [
        "import numpy as np\n",
        "import pandas as pd\n",
        "import SparseSC\n",
        "import optuna\n",
        "optuna.logging.disable_default_handler()"
      ],
      "metadata": {
        "id": "ZqE1gpAWO8B9"
      },
      "execution_count": null,
      "outputs": []
    },
    {
      "cell_type": "code",
      "source": [
        "def shuffle_features(random_state, extract_nums, features, postspective, treatment_units_index):\n",
        "  #np.random.permutationのseed固定はこれ\n",
        "  np.random.seed(int(random_state))\n",
        "\n",
        "  #現状のコントロール群のindexをランダムに並び替えて、上から一定数選択することでランダム化する。その結果選択されたindexを保持する\n",
        "  shuffled_index = np.random.permutation(np.arange(0,len(features)-1))[:extract_nums]\n",
        "\n",
        "  #treatmentのindexを忘れないようにくっつける\n",
        "  shuffled_index_with_treatment = np.concatenate((shuffled_index, treatment_units_index))\n",
        "\n",
        "  # ランダムコントロール群を抽出した結果の特徴量と使ったindex\n",
        "  f = features[shuffled_index_with_treatment]\n",
        "  p = postspective[shuffled_index_with_treatment]\n",
        "  t = [len(shuffled_index)]\n",
        "\n",
        "  return f, p, t, shuffled_index_with_treatment"
      ],
      "metadata": {
        "id": "FJKWXqqzO35Y"
      },
      "execution_count": null,
      "outputs": []
    },
    {
      "cell_type": "code",
      "execution_count": null,
      "metadata": {
        "id": "8xb4BsXIOsZ3"
      },
      "outputs": [],
      "source": [
        "def score_function(preds, target):\n",
        "  score = np.mean((preds - target)**2)\n",
        "  return score\n",
        "\n",
        "def objective_variable_degree(features, postspective, treatment_units_index):\n",
        "\n",
        "  def objective(trial): ###optuna\n",
        "\n",
        "    #コントロール群を選ぶ時のシード\n",
        "    s = trial.suggest_categorical('state', np.arange(0, 10).astype(str))\n",
        "    mt = trial.suggest_categorical('model_type', ['retrospective', 'prospective'])\n",
        "    #選択する組数をランダムサンプル\n",
        "    r = trial.suggest_int('samples', 10, 36)\n",
        "\n",
        "    #元のデータからコントロール群を選択してくる関数\n",
        "    m_f, m_p, m_t, _ = shuffle_features(random_state=s, extract_nums=r, features=features, postspective=postspective, treatment_units_index=treatment_units_index)\n",
        "\n",
        "    #SCM学習\n",
        "    model = SparseSC.fit_fast(features=m_f, targets=m_p, treated_units=m_t,\n",
        "                                 w_pens=np.logspace(start=-4, stop=3, num=1000),model_type=mt)\n",
        "    #予測結果のscore function (MSE)\n",
        "    preds = model.predict(m_f)[m_t]\n",
        "    score = score_function(preds, m_f[m_t])\n",
        "\n",
        "    if score < 1:\n",
        "      trial.study.stop()\n",
        "\n",
        "    return score\n",
        "\n",
        "  return objective"
      ]
    },
    {
      "cell_type": "code",
      "source": [
        "db_name = f\"{control}_{treatment}\"\n",
        "study_name = f'{control}_{treatment}_example-study'\n",
        "#コントロール群の中から適当に選択して、SCMのfittingを最適化（過学習）している\n",
        "\n",
        "study = optuna.create_study(direction=\"minimize\", study_name=study_name, storage=f'sqlite:///../optuna_study_{db_name}.db',load_if_exists=True)\n",
        "\n",
        "study.optimize(objective_variable_degree(features=features, postspective=postspective, treatment_units_index=treatment_units_index),\n",
        "                n_trials=10, show_progress_bar=False)"
      ],
      "metadata": {
        "id": "3dXorCTWPAhi"
      },
      "execution_count": null,
      "outputs": []
    }
  ]
}